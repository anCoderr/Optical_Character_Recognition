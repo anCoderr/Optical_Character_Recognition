{
 "cells": [
  {
   "cell_type": "code",
   "execution_count": 164,
   "metadata": {
    "collapsed": true
   },
   "outputs": [],
   "source": [
    "import torch\n",
    "import torch.nn as nn\n",
    "import torch.optim as optim\n",
    "import torch.nn.functional as F\n",
    "import matplotlib.pyplot as plt\n",
    "from torch.utils.data import DataLoader\n",
    "import torchvision.datasets as datasets\n",
    "import torchvision.transforms as transforms"
   ]
  },
  {
   "cell_type": "code",
   "execution_count": 165,
   "outputs": [],
   "source": [
    "class Model(nn.Module):\n",
    "\n",
    "    def __init__(self, ip_size, hidden_size, op_size):\n",
    "        super(Model, self).__init__()\n",
    "        self.fc1 = nn.Linear(ip_size, hidden_size)\n",
    "        self.fc2 = nn.Linear(hidden_size, op_size)\n",
    "\n",
    "    def forward(self, x):\n",
    "        x = self.fc1(x)\n",
    "        x = F.relu(x)\n",
    "        x = self.fc2(x)\n",
    "        return x"
   ],
   "metadata": {
    "collapsed": false,
    "pycharm": {
     "name": "#%%\n"
    }
   }
  },
  {
   "cell_type": "code",
   "execution_count": 166,
   "outputs": [],
   "source": [
    "device = torch.device('cuda' if torch.cuda.is_available() else 'cpu')"
   ],
   "metadata": {
    "collapsed": false,
    "pycharm": {
     "name": "#%%\n"
    }
   }
  },
  {
   "cell_type": "code",
   "execution_count": 167,
   "outputs": [],
   "source": [
    "input_size = 784\n",
    "output_size = 10\n",
    "hidden_size = 200\n",
    "learning_rate = 0.001\n",
    "batch_size = 64\n",
    "epochs = 10\n",
    "tr_ds = 'Training Dataset'\n",
    "te_ds = 'Test Dataset'"
   ],
   "metadata": {
    "collapsed": false,
    "pycharm": {
     "name": "#%%\n"
    }
   }
  },
  {
   "cell_type": "code",
   "execution_count": 168,
   "outputs": [],
   "source": [
    "train_dataset = datasets.MNIST(root='dataset/', train=True, transform=transforms.ToTensor(), download=True)\n",
    "train_loader = DataLoader(dataset=train_dataset, batch_size=batch_size, shuffle=True)"
   ],
   "metadata": {
    "collapsed": false,
    "pycharm": {
     "name": "#%%\n"
    }
   }
  },
  {
   "cell_type": "code",
   "execution_count": 169,
   "outputs": [],
   "source": [
    "test_dataset = datasets.MNIST(root='dataset/', train=False, transform=transforms.ToTensor(), download=True)\n",
    "test_loader = DataLoader(dataset=test_dataset, batch_size=batch_size, shuffle=True)"
   ],
   "metadata": {
    "collapsed": false,
    "pycharm": {
     "name": "#%%\n"
    }
   }
  },
  {
   "cell_type": "code",
   "execution_count": 170,
   "outputs": [],
   "source": [
    "model = Model(input_size, hidden_size, output_size).to(device=device)"
   ],
   "metadata": {
    "collapsed": false,
    "pycharm": {
     "name": "#%%\n"
    }
   }
  },
  {
   "cell_type": "code",
   "execution_count": 171,
   "outputs": [],
   "source": [
    "criterion = nn.CrossEntropyLoss()\n",
    "optimizer = optim.Adam(model.parameters(), lr=learning_rate)"
   ],
   "metadata": {
    "collapsed": false,
    "pycharm": {
     "name": "#%%\n"
    }
   }
  },
  {
   "cell_type": "code",
   "execution_count": 172,
   "outputs": [],
   "source": [
    "def check_accuracy(loader, model):\n",
    "    correct = 0\n",
    "    samples = 0\n",
    "    model.eval()\n",
    "    with torch.no_grad():\n",
    "        for x, y in loader:\n",
    "            x = x.to(device=device)\n",
    "            y = y.to(device=device)\n",
    "            x = x.reshape(x.shape[0],-1)\n",
    "\n",
    "            y_pred = model(x)\n",
    "            _, y_pred = y_pred.max(1)\n",
    "            correct += (y_pred == y).sum()\n",
    "            samples += y_pred.size(0)\n",
    "\n",
    "\n",
    "        print(f'Accuracy on {tr_ds if loader.dataset.train else te_ds} is {correct} / {samples} = {(correct/samples) * 100:.2f}')\n",
    "    model.train()"
   ],
   "metadata": {
    "collapsed": false,
    "pycharm": {
     "name": "#%%\n"
    }
   }
  },
  {
   "cell_type": "code",
   "execution_count": 173,
   "outputs": [
    {
     "name": "stdout",
     "output_type": "stream",
     "text": [
      "Accuracy on Test Dataset is 829 / 10000 = 8.29\n",
      "Epoch: 0 and Loss: 0.308901\n",
      "Accuracy on Test Dataset is 9507 / 10000 = 95.07\n",
      "Epoch: 1 and Loss: 0.132879\n",
      "Accuracy on Test Dataset is 9665 / 10000 = 96.65\n",
      "Epoch: 2 and Loss: 0.090386\n",
      "Accuracy on Test Dataset is 9714 / 10000 = 97.14\n",
      "Epoch: 3 and Loss: 0.065931\n",
      "Accuracy on Test Dataset is 9749 / 10000 = 97.49\n",
      "Epoch: 4 and Loss: 0.051252\n",
      "Accuracy on Test Dataset is 9751 / 10000 = 97.51\n",
      "Epoch: 5 and Loss: 0.039730\n",
      "Accuracy on Test Dataset is 9772 / 10000 = 97.72\n",
      "Epoch: 6 and Loss: 0.030718\n",
      "Accuracy on Test Dataset is 9787 / 10000 = 97.87\n",
      "Epoch: 7 and Loss: 0.024427\n",
      "Accuracy on Test Dataset is 9778 / 10000 = 97.78\n",
      "Epoch: 8 and Loss: 0.019516\n",
      "Accuracy on Test Dataset is 9787 / 10000 = 97.87\n",
      "Epoch: 9 and Loss: 0.014765\n"
     ]
    },
    {
     "data": {
      "text/plain": "Text(0.5, 0, 'epoch')"
     },
     "execution_count": 173,
     "metadata": {},
     "output_type": "execute_result"
    },
    {
     "data": {
      "text/plain": "<Figure size 432x288 with 1 Axes>",
      "image/png": "[encoded data removed]"
     },
     "metadata": {
      "needs_background": "light"
     },
     "output_type": "display_data"
    }
   ],
   "source": [
    "losses = []\n",
    "\n",
    "for epoch in range(epochs):\n",
    "    batch_count = 0\n",
    "    total_loss = 0\n",
    "    check_accuracy(test_loader, model)\n",
    "    for batch_index, (data,targets) in enumerate(train_loader):\n",
    "        data = data.to(device=device)\n",
    "        targets = targets.to(device=device)\n",
    "        data = data.reshape(data.shape[0],-1)\n",
    "\n",
    "        y_pred = model(data)\n",
    "        loss = criterion(y_pred, targets)\n",
    "\n",
    "        total_loss += loss.item()\n",
    "        batch_count += 1\n",
    "\n",
    "        optimizer.zero_grad()\n",
    "        loss.backward()\n",
    "        optimizer.step()\n",
    "\n",
    "    avg_loss = total_loss/batch_count\n",
    "    print(f'Epoch: {epoch} and Loss: {avg_loss:.6f}')\n",
    "\n",
    "\n",
    "    losses.append(round(avg_loss,6))\n",
    "\n",
    "plt.plot(range(epochs), losses)\n",
    "plt.ylabel('Loss')\n",
    "plt.xlabel('epoch')"
   ],
   "metadata": {
    "collapsed": false,
    "pycharm": {
     "name": "#%%\n"
    }
   }
  },
  {
   "cell_type": "code",
   "execution_count": 174,
   "outputs": [
    {
     "name": "stdout",
     "output_type": "stream",
     "text": [
      "Accuracy on Training Dataset is 59828 / 60000 = 99.71\n",
      "Accuracy on Test Dataset is 9795 / 10000 = 97.95\n"
     ]
    }
   ],
   "source": [
    "check_accuracy(train_loader, model)\n",
    "check_accuracy(test_loader, model)"
   ],
   "metadata": {
    "collapsed": false,
    "pycharm": {
     "name": "#%%\n"
    }
   }
  }
 ],
 "metadata": {
  "kernelspec": {
   "display_name": "Python 3",
   "language": "python",
   "name": "python3"
  },
  "language_info": {
   "codemirror_mode": {
    "name": "ipython",
    "version": 2
   },
   "file_extension": ".py",
   "mimetype": "text/x-python",
   "name": "python",
   "nbconvert_exporter": "python",
   "pygments_lexer": "ipython2",
   "version": "2.7.6"
  }
 },
 "nbformat": 4,
 "nbformat_minor": 0
}