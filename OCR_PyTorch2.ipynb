{
 "cells": [
  {
   "cell_type": "code",
   "execution_count": 176,
   "metadata": {
    "collapsed": true
   },
   "outputs": [],
   "source": [
    "import torch\n",
    "import torch.optim as optim\n",
    "import torch.nn.functional as F\n",
    "import torch.nn as nn\n",
    "import pickle as pickle\n",
    "import gzip as gzip\n",
    "import matplotlib.pyplot as plt"
   ]
  },
  {
   "cell_type": "code",
   "execution_count": 177,
   "outputs": [],
   "source": [
    "def load_data():\n",
    "    f = gzip.open(\"mnist.pkl.gz\", 'rb')\n",
    "    training_data, validation_data, test_data = pickle.load(f, encoding=\"bytes\")\n",
    "    return training_data, validation_data, test_data"
   ],
   "metadata": {
    "collapsed": false,
    "pycharm": {
     "name": "#%%\n"
    }
   }
  },
  {
   "cell_type": "code",
   "execution_count": 178,
   "outputs": [],
   "source": [
    "training_data, validation_data, test_data = load_data()\n",
    "device = torch.device('cuda' if torch.cuda.is_available() else 'cpu')"
   ],
   "metadata": {
    "collapsed": false,
    "pycharm": {
     "name": "#%%\n"
    }
   }
  },
  {
   "cell_type": "code",
   "execution_count": 179,
   "outputs": [],
   "source": [
    "x_train = torch.FloatTensor(training_data[0])\n",
    "y_train = torch.LongTensor(training_data[1])\n",
    "x_test = torch.FloatTensor(test_data[0])\n",
    "y_test = torch.LongTensor(test_data[1])"
   ],
   "metadata": {
    "collapsed": false,
    "pycharm": {
     "name": "#%%\n"
    }
   }
  },
  {
   "cell_type": "code",
   "execution_count": 180,
   "outputs": [],
   "source": [
    "class Model(nn.Module):\n",
    "    def __init__(self, ip_size, hidden_size, op_size):\n",
    "        super(Model, self).__init__()\n",
    "        self.fc1 = nn.Linear(ip_size, hidden_size)\n",
    "        self.fc2 = nn.Linear(hidden_size, op_size)\n",
    "\n",
    "    def forward(self, x):\n",
    "        x = self.fc1(x)\n",
    "        x = F.relu(x)\n",
    "        x = self.fc2(x)\n",
    "        return x"
   ],
   "metadata": {
    "collapsed": false,
    "pycharm": {
     "name": "#%%\n"
    }
   }
  },
  {
   "cell_type": "code",
   "execution_count": 181,
   "outputs": [],
   "source": [
    "input_size = 784\n",
    "output_size = 10\n",
    "hidden_size = 200\n",
    "learning_rate = 0.001\n",
    "epochs = 100"
   ],
   "metadata": {
    "collapsed": false,
    "pycharm": {
     "name": "#%%\n"
    }
   }
  },
  {
   "cell_type": "code",
   "execution_count": 182,
   "outputs": [],
   "source": [
    "model = Model(input_size, hidden_size, output_size)\n",
    "criterion = nn.CrossEntropyLoss()\n",
    "optimizer = optim.Adam(model.parameters(), lr=learning_rate)"
   ],
   "metadata": {
    "collapsed": false,
    "pycharm": {
     "name": "#%%\n"
    }
   }
  },
  {
   "cell_type": "code",
   "execution_count": 183,
   "outputs": [],
   "source": [
    "def check_accuracy(check_x, check_y, model):\n",
    "    correct = 0\n",
    "    samples = 0\n",
    "    model.eval()\n",
    "    with torch.no_grad():\n",
    "        x = check_x.to(device=device)\n",
    "        y = check_y.to(device=device)\n",
    "        y_pred = model(x)\n",
    "        _, y_pre_indices = torch.max(y_pred,dim=1)\n",
    "        # tensor1 == tensor2 returns a tensor of bool with element by element checking\n",
    "        correct_tensor = (y_pre_indices == y)\n",
    "        correct += torch.sum(correct_tensor).item() # torch.sum() returns a tensor of sum of input\n",
    "        samples += y_pre_indices.size(0)\n",
    "        accuracy = round((correct/samples) * 100,4)\n",
    "        print(f'Accuracy is {correct} / {samples} = {accuracy}')\n",
    "    model.train()"
   ],
   "metadata": {
    "collapsed": false,
    "pycharm": {
     "name": "#%%\n"
    }
   }
  },
  {
   "cell_type": "code",
   "execution_count": 184,
   "outputs": [
    {
     "name": "stdout",
     "output_type": "stream",
     "text": [
      "Epoch: 1 and Loss: 2.3034 \n",
      "Accuracy is 1173 / 10000 = 11.73\n",
      "Epoch: 11 and Loss: 1.4727 \n",
      "Accuracy is 7895 / 10000 = 78.95\n",
      "Epoch: 21 and Loss: 0.8278 \n",
      "Accuracy is 8487 / 10000 = 84.87\n",
      "Epoch: 31 and Loss: 0.5433 \n",
      "Accuracy is 8747 / 10000 = 87.47\n",
      "Epoch: 41 and Loss: 0.4277 \n",
      "Accuracy is 8923 / 10000 = 89.23\n",
      "Epoch: 51 and Loss: 0.3701 \n",
      "Accuracy is 9046 / 10000 = 90.46\n",
      "Epoch: 61 and Loss: 0.3357 \n",
      "Accuracy is 9123 / 10000 = 91.23\n",
      "Epoch: 71 and Loss: 0.3121 \n",
      "Accuracy is 9166 / 10000 = 91.66\n",
      "Epoch: 81 and Loss: 0.2939 \n",
      "Accuracy is 9204 / 10000 = 92.04\n",
      "Epoch: 91 and Loss: 0.2786 \n",
      "Accuracy is 9240 / 10000 = 92.4\n"
     ]
    }
   ],
   "source": [
    "losses = []\n",
    "\n",
    "for epoch in range(epochs):\n",
    "\n",
    "    y_pred = model(x_train)\n",
    "    loss = criterion(y_pred, y_train)\n",
    "\n",
    "    losses.append(loss.item())\n",
    "\n",
    "    if epoch % 10 == 0:\n",
    "        print(f'Epoch: {epoch+1} and Loss: {loss.item():.4f} ')\n",
    "        check_accuracy(x_test,y_test,model)\n",
    "\n",
    "    optimizer.zero_grad()\n",
    "    loss.backward()\n",
    "    optimizer.step()"
   ],
   "metadata": {
    "collapsed": false,
    "pycharm": {
     "name": "#%%\n"
    }
   }
  },
  {
   "cell_type": "code",
   "execution_count": 185,
   "outputs": [
    {
     "data": {
      "text/plain": "Text(0.5, 0, 'epoch')"
     },
     "execution_count": 185,
     "metadata": {},
     "output_type": "execute_result"
    },
    {
     "data": {
      "text/plain": "<Figure size 432x288 with 1 Axes>",
      "image/png": "[encoded data removed]"
     },
     "metadata": {
      "needs_background": "light"
     },
     "output_type": "display_data"
    }
   ],
   "source": [
    "plt.plot(range(epochs), losses)\n",
    "plt.ylabel('Loss')\n",
    "plt.xlabel('epoch')"
   ],
   "metadata": {
    "collapsed": false,
    "pycharm": {
     "name": "#%%\n"
    }
   }
  }
 ],
 "metadata": {
  "kernelspec": {
   "display_name": "Python 3",
   "language": "python",
   "name": "python3"
  },
  "language_info": {
   "codemirror_mode": {
    "name": "ipython",
    "version": 2
   },
   "file_extension": ".py",
   "mimetype": "text/x-python",
   "name": "python",
   "nbconvert_exporter": "python",
   "pygments_lexer": "ipython2",
   "version": "2.7.6"
  }
 },
 "nbformat": 4,
 "nbformat_minor": 0
}