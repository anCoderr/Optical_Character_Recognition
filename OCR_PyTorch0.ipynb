{
 "cells": [
  {
   "cell_type": "code",
   "execution_count": 95,
   "metadata": {},
   "outputs": [],
   "source": [
    "import torch\n",
    "import pandas as pd\n",
    "import torch.nn as nn\n",
    "import torch.nn.functional as F\n",
    "import pickle as pickle\n",
    "import gzip as gzip\n",
    "import matplotlib.pyplot as plt"
   ]
  },
  {
   "cell_type": "code",
   "execution_count": 108,
   "outputs": [],
   "source": [
    "def load_data():\n",
    "    f = gzip.open(\"mnist.pkl.gz\", 'rb')\n",
    "    training_data, validation_data, test_data = pickle.load(f, encoding=\"bytes\")\n",
    "    return training_data, validation_data, test_data\n",
    "\n",
    "training_data, validation_data, test_data = load_data()\n",
    "\n",
    "x_train = torch.FloatTensor(training_data[0])\n",
    "y_train = torch.LongTensor(training_data[1])\n",
    "x_test = torch.FloatTensor(test_data[0])\n",
    "y_test = torch.LongTensor(test_data[1])"
   ],
   "metadata": {
    "collapsed": false,
    "pycharm": {
     "name": "#%%\n"
    }
   }
  },
  {
   "cell_type": "code",
   "execution_count": 109,
   "outputs": [
    {
     "name": "stdout",
     "output_type": "stream",
     "text": [
      "Model(\n",
      "  (fc1): Linear(in_features=784, out_features=200, bias=True)\n",
      "  (fc2): Linear(in_features=200, out_features=10, bias=True)\n",
      ")\n"
     ]
    }
   ],
   "source": [
    "class Model(nn.Module):\n",
    "    def __init__(self, ip_size, hidden_size, op_size):\n",
    "        super(Model, self).__init__()\n",
    "        self.fc1 = nn.Linear(ip_size, hidden_size)\n",
    "        self.fc2 = nn.Linear(hidden_size, op_size)\n",
    "\n",
    "    def forward(self, x):\n",
    "        x = self.fc1(x)\n",
    "        x = F.relu(x)\n",
    "        x = self.fc2(x)\n",
    "        return x\n",
    "\n",
    "model = Model(784,200,10)\n",
    "print(model)"
   ],
   "metadata": {
    "collapsed": false,
    "pycharm": {
     "name": "#%%\n"
    }
   }
  },
  {
   "cell_type": "code",
   "execution_count": 110,
   "metadata": {
    "pycharm": {
     "name": "#%%\n"
    }
   },
   "outputs": [],
   "source": [
    "criterion = nn.CrossEntropyLoss()\n",
    "optimizer = torch.optim.Adam(model.parameters(),lr=0.001)"
   ]
  },
  {
   "cell_type": "code",
   "execution_count": 111,
   "outputs": [],
   "source": [
    "def check_accuracy(check_x, check_y, model):\n",
    "    correct = 0\n",
    "    samples = 0\n",
    "    model.eval()\n",
    "    with torch.no_grad():\n",
    "        x = check_x\n",
    "        y = check_y\n",
    "        y_pred = model(x)\n",
    "        _, y_pre_indices = torch.max(y_pred,dim=1)\n",
    "        # tensor1 == tensor2 returns a tensor of bool with element by element checking\n",
    "        correct_tensor = (y_pre_indices == y)\n",
    "        correct += torch.sum(correct_tensor).item() # torch.sum() returns a tensor of sum of input\n",
    "        samples += y_pre_indices.size(0)\n",
    "        accuracy = round((correct/samples) * 100,4)\n",
    "        print(f'Accuracy is {correct} / {samples} = {accuracy}')\n",
    "    model.train()"
   ],
   "metadata": {
    "collapsed": false,
    "pycharm": {
     "name": "#%%\n"
    }
   }
  },
  {
   "cell_type": "code",
   "execution_count": 112,
   "outputs": [
    {
     "name": "stdout",
     "output_type": "stream",
     "text": [
      "Epoch: 0 Loss: 2.3085315227508545\n",
      "Accuracy is 882 / 10000 = 8.82\n",
      "Accuracy is 4664 / 50000 = 9.328\n",
      "Epoch: 10 Loss: 1.4546329975128174\n",
      "Accuracy is 7809 / 10000 = 78.09\n",
      "Accuracy is 38581 / 50000 = 77.162\n",
      "Epoch: 20 Loss: 0.8214483857154846\n",
      "Accuracy is 8418 / 10000 = 84.18\n",
      "Accuracy is 41397 / 50000 = 82.794\n",
      "Epoch: 30 Loss: 0.548006534576416\n",
      "Accuracy is 8746 / 10000 = 87.46\n",
      "Accuracy is 43133 / 50000 = 86.266\n",
      "Epoch: 40 Loss: 0.4322053790092468\n",
      "Accuracy is 8918 / 10000 = 89.18\n",
      "Accuracy is 44230 / 50000 = 88.46\n",
      "Epoch: 50 Loss: 0.3730267584323883\n",
      "Accuracy is 9040 / 10000 = 90.4\n",
      "Accuracy is 44824 / 50000 = 89.648\n",
      "Epoch: 60 Loss: 0.3374018371105194\n",
      "Accuracy is 9120 / 10000 = 91.2\n",
      "Accuracy is 45289 / 50000 = 90.578\n",
      "Epoch: 70 Loss: 0.3129739463329315\n",
      "Accuracy is 9182 / 10000 = 91.82\n",
      "Accuracy is 45646 / 50000 = 91.292\n",
      "Epoch: 80 Loss: 0.2943457067012787\n",
      "Accuracy is 9208 / 10000 = 92.08\n",
      "Accuracy is 45908 / 50000 = 91.816\n",
      "Epoch: 90 Loss: 0.2788010239601135\n",
      "Accuracy is 9238 / 10000 = 92.38\n",
      "Accuracy is 46113 / 50000 = 92.226\n",
      "Epoch: 100 Loss: 0.2649409770965576\n",
      "Accuracy is 9267 / 10000 = 92.67\n",
      "Accuracy is 46302 / 50000 = 92.604\n",
      "Epoch: 110 Loss: 0.2521142363548279\n",
      "Accuracy is 9303 / 10000 = 93.03\n",
      "Accuracy is 46504 / 50000 = 93.008\n",
      "Epoch: 120 Loss: 0.24005402624607086\n",
      "Accuracy is 9341 / 10000 = 93.41\n",
      "Accuracy is 46684 / 50000 = 93.368\n",
      "Epoch: 130 Loss: 0.2286430299282074\n",
      "Accuracy is 9363 / 10000 = 93.63\n",
      "Accuracy is 46823 / 50000 = 93.646\n",
      "Epoch: 140 Loss: 0.21779733896255493\n",
      "Accuracy is 9385 / 10000 = 93.85\n",
      "Accuracy is 46964 / 50000 = 93.928\n",
      "Epoch: 150 Loss: 0.20759280025959015\n",
      "Accuracy is 9407 / 10000 = 94.07\n",
      "Accuracy is 47108 / 50000 = 94.216\n",
      "Epoch: 160 Loss: 0.19803732633590698\n",
      "Accuracy is 9425 / 10000 = 94.25\n",
      "Accuracy is 47250 / 50000 = 94.5\n",
      "Epoch: 170 Loss: 0.18906114995479584\n",
      "Accuracy is 9443 / 10000 = 94.43\n",
      "Accuracy is 47373 / 50000 = 94.746\n",
      "Epoch: 180 Loss: 0.18061573803424835\n",
      "Accuracy is 9466 / 10000 = 94.66\n",
      "Accuracy is 47507 / 50000 = 95.014\n",
      "Epoch: 190 Loss: 0.17262741923332214\n",
      "Accuracy is 9486 / 10000 = 94.86\n",
      "Accuracy is 47611 / 50000 = 95.222\n"
     ]
    }
   ],
   "source": [
    "epochs = 100\n",
    "losses = []\n",
    "\n",
    "for i in range(epochs):\n",
    "    y_pred = model.forward(x_train)\n",
    "    loss = criterion(y_pred,y_train)\n",
    "    losses.append(loss)\n",
    "    if i % 10 == 0:\n",
    "        print(f'Epoch: {i} Loss: {loss}')\n",
    "        check_accuracy(x_test,y_test,model)\n",
    "        check_accuracy(x_train,y_train,model)\n",
    "    optimizer.zero_grad()\n",
    "    loss.backward()\n",
    "    optimizer.step()"
   ],
   "metadata": {
    "collapsed": false,
    "pycharm": {
     "name": "#%%\n"
    }
   }
  },
  {
   "cell_type": "code",
   "execution_count": 104,
   "metadata": {
    "pycharm": {
     "name": "#%%\n"
    }
   },
   "outputs": [
    {
     "data": {
      "text/plain": "Text(0.5, 0, 'epoch')"
     },
     "execution_count": 104,
     "metadata": {},
     "output_type": "execute_result"
    },
    {
     "data": {
      "text/plain": "<Figure size 432x288 with 1 Axes>",
      "image/png": "[encoded data removed]"
     },
     "metadata": {
      "needs_background": "light"
     },
     "output_type": "display_data"
    }
   ],
   "source": [
    "plt.plot(range(epochs),[loss.item() for loss in losses])\n",
    "plt.ylabel('Loss')\n",
    "plt.xlabel('epoch')"
   ]
  },
  {
   "cell_type": "code",
   "execution_count": 104,
   "outputs": [],
   "source": [],
   "metadata": {
    "collapsed": false,
    "pycharm": {
     "name": "#%%\n"
    }
   }
  }
 ],
 "metadata": {
  "kernelspec": {
   "name": "python3",
   "language": "python",
   "display_name": "Python 3 (ipykernel)"
  },
  "language_info": {
   "codemirror_mode": {
    "name": "ipython",
    "version": 2
   },
   "file_extension": ".py",
   "mimetype": "text/x-python",
   "name": "python",
   "nbconvert_exporter": "python",
   "pygments_lexer": "ipython2",
   "version": "2.7.6"
  }
 },
 "nbformat": 4,
 "nbformat_minor": 1
}